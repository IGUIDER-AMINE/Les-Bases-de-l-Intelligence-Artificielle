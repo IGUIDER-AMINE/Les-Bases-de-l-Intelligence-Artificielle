{
 "cells": [
  {
   "cell_type": "code",
   "execution_count": 1,
   "id": "d26af1b7-e4d9-414a-8de3-af61a3911ee2",
   "metadata": {},
   "outputs": [],
   "source": [
    "import numpy as np\n",
    "import pandas as pd\n",
    "import matplotlib.pyplot as plt\n",
    "import seaborn as sns\n",
    "from sklearn.model_selection import train_test_split"
   ]
  },
  {
   "cell_type": "code",
   "execution_count": 2,
   "id": "4df1cb99-0e0a-43c1-b59e-678748b7de52",
   "metadata": {},
   "outputs": [],
   "source": [
    "iris = pd.read_csv(\"iris.csv\")"
   ]
  },
  {
   "cell_type": "code",
   "execution_count": 3,
   "id": "2ee8346e-9d9e-4380-9bf9-9a02534905dd",
   "metadata": {},
   "outputs": [
    {
     "data": {
      "text/html": [
       "<div>\n",
       "<style scoped>\n",
       "    .dataframe tbody tr th:only-of-type {\n",
       "        vertical-align: middle;\n",
       "    }\n",
       "\n",
       "    .dataframe tbody tr th {\n",
       "        vertical-align: top;\n",
       "    }\n",
       "\n",
       "    .dataframe thead th {\n",
       "        text-align: right;\n",
       "    }\n",
       "</style>\n",
       "<table border=\"1\" class=\"dataframe\">\n",
       "  <thead>\n",
       "    <tr style=\"text-align: right;\">\n",
       "      <th></th>\n",
       "      <th>sepal_length</th>\n",
       "      <th>sepal_width</th>\n",
       "      <th>petal_length</th>\n",
       "      <th>petal_width</th>\n",
       "      <th>class</th>\n",
       "    </tr>\n",
       "  </thead>\n",
       "  <tbody>\n",
       "    <tr>\n",
       "      <th>0</th>\n",
       "      <td>5.1</td>\n",
       "      <td>3.5</td>\n",
       "      <td>1.4</td>\n",
       "      <td>0.2</td>\n",
       "      <td>Iris-setosa</td>\n",
       "    </tr>\n",
       "    <tr>\n",
       "      <th>1</th>\n",
       "      <td>4.9</td>\n",
       "      <td>3.0</td>\n",
       "      <td>1.4</td>\n",
       "      <td>0.2</td>\n",
       "      <td>Iris-setosa</td>\n",
       "    </tr>\n",
       "    <tr>\n",
       "      <th>2</th>\n",
       "      <td>4.7</td>\n",
       "      <td>3.2</td>\n",
       "      <td>1.3</td>\n",
       "      <td>0.2</td>\n",
       "      <td>Iris-setosa</td>\n",
       "    </tr>\n",
       "    <tr>\n",
       "      <th>3</th>\n",
       "      <td>4.6</td>\n",
       "      <td>3.1</td>\n",
       "      <td>1.5</td>\n",
       "      <td>0.2</td>\n",
       "      <td>Iris-setosa</td>\n",
       "    </tr>\n",
       "    <tr>\n",
       "      <th>4</th>\n",
       "      <td>5.0</td>\n",
       "      <td>3.6</td>\n",
       "      <td>1.4</td>\n",
       "      <td>0.2</td>\n",
       "      <td>Iris-setosa</td>\n",
       "    </tr>\n",
       "    <tr>\n",
       "      <th>...</th>\n",
       "      <td>...</td>\n",
       "      <td>...</td>\n",
       "      <td>...</td>\n",
       "      <td>...</td>\n",
       "      <td>...</td>\n",
       "    </tr>\n",
       "    <tr>\n",
       "      <th>145</th>\n",
       "      <td>6.7</td>\n",
       "      <td>3.0</td>\n",
       "      <td>5.2</td>\n",
       "      <td>2.3</td>\n",
       "      <td>Iris-virginica</td>\n",
       "    </tr>\n",
       "    <tr>\n",
       "      <th>146</th>\n",
       "      <td>6.3</td>\n",
       "      <td>2.5</td>\n",
       "      <td>5.0</td>\n",
       "      <td>1.9</td>\n",
       "      <td>Iris-virginica</td>\n",
       "    </tr>\n",
       "    <tr>\n",
       "      <th>147</th>\n",
       "      <td>6.5</td>\n",
       "      <td>3.0</td>\n",
       "      <td>5.2</td>\n",
       "      <td>2.0</td>\n",
       "      <td>Iris-virginica</td>\n",
       "    </tr>\n",
       "    <tr>\n",
       "      <th>148</th>\n",
       "      <td>6.2</td>\n",
       "      <td>3.4</td>\n",
       "      <td>5.4</td>\n",
       "      <td>2.3</td>\n",
       "      <td>Iris-virginica</td>\n",
       "    </tr>\n",
       "    <tr>\n",
       "      <th>149</th>\n",
       "      <td>5.9</td>\n",
       "      <td>3.0</td>\n",
       "      <td>5.1</td>\n",
       "      <td>1.8</td>\n",
       "      <td>Iris-virginica</td>\n",
       "    </tr>\n",
       "  </tbody>\n",
       "</table>\n",
       "<p>150 rows × 5 columns</p>\n",
       "</div>"
      ],
      "text/plain": [
       "     sepal_length  sepal_width  petal_length  petal_width           class\n",
       "0             5.1          3.5           1.4          0.2     Iris-setosa\n",
       "1             4.9          3.0           1.4          0.2     Iris-setosa\n",
       "2             4.7          3.2           1.3          0.2     Iris-setosa\n",
       "3             4.6          3.1           1.5          0.2     Iris-setosa\n",
       "4             5.0          3.6           1.4          0.2     Iris-setosa\n",
       "..            ...          ...           ...          ...             ...\n",
       "145           6.7          3.0           5.2          2.3  Iris-virginica\n",
       "146           6.3          2.5           5.0          1.9  Iris-virginica\n",
       "147           6.5          3.0           5.2          2.0  Iris-virginica\n",
       "148           6.2          3.4           5.4          2.3  Iris-virginica\n",
       "149           5.9          3.0           5.1          1.8  Iris-virginica\n",
       "\n",
       "[150 rows x 5 columns]"
      ]
     },
     "execution_count": 3,
     "metadata": {},
     "output_type": "execute_result"
    }
   ],
   "source": [
    "iris"
   ]
  },
  {
   "cell_type": "code",
   "execution_count": 4,
   "id": "348f8caf-9bd8-4caa-98fb-7c1c45ca1db1",
   "metadata": {},
   "outputs": [
    {
     "data": {
      "text/plain": [
       "class\n",
       "Iris-setosa        50\n",
       "Iris-versicolor    50\n",
       "Iris-virginica     50\n",
       "Name: count, dtype: int64"
      ]
     },
     "execution_count": 4,
     "metadata": {},
     "output_type": "execute_result"
    }
   ],
   "source": [
    "iris['class'].value_counts()"
   ]
  },
  {
   "cell_type": "code",
   "execution_count": 5,
   "id": "3d544c70-b274-4ac8-9cfa-22a5d2e72daa",
   "metadata": {},
   "outputs": [],
   "source": [
    "classes = iris['class'].unique().tolist()"
   ]
  },
  {
   "cell_type": "code",
   "execution_count": 6,
   "id": "dc7455f6-c07e-491a-909f-246490606b43",
   "metadata": {},
   "outputs": [
    {
     "data": {
      "text/plain": [
       "['Iris-setosa', 'Iris-versicolor', 'Iris-virginica']"
      ]
     },
     "execution_count": 6,
     "metadata": {},
     "output_type": "execute_result"
    }
   ],
   "source": [
    "classes"
   ]
  },
  {
   "cell_type": "code",
   "execution_count": 7,
   "id": "c3af28f0-1c82-4756-89d9-4b432016f4da",
   "metadata": {},
   "outputs": [],
   "source": [
    "replaceDict = dict ( zip( classes, range(len(classes)) ) )"
   ]
  },
  {
   "cell_type": "code",
   "execution_count": 8,
   "id": "6faf06e4-8244-4644-b218-0c9690bf1fec",
   "metadata": {},
   "outputs": [
    {
     "data": {
      "text/plain": [
       "{'Iris-setosa': 0, 'Iris-versicolor': 1, 'Iris-virginica': 2}"
      ]
     },
     "execution_count": 8,
     "metadata": {},
     "output_type": "execute_result"
    }
   ],
   "source": [
    "replaceDict"
   ]
  },
  {
   "cell_type": "code",
   "execution_count": 9,
   "id": "0a8c6907-4bc6-45fd-88e7-1d20555b3219",
   "metadata": {},
   "outputs": [],
   "source": [
    "reversedReplaceDict = dict ( zip( range(len(classes)), classes) )"
   ]
  },
  {
   "cell_type": "code",
   "execution_count": 10,
   "id": "9dd1fd48-507d-4d3b-9b45-1e24b49162cb",
   "metadata": {},
   "outputs": [
    {
     "data": {
      "text/plain": [
       "{0: 'Iris-setosa', 1: 'Iris-versicolor', 2: 'Iris-virginica'}"
      ]
     },
     "execution_count": 10,
     "metadata": {},
     "output_type": "execute_result"
    }
   ],
   "source": [
    "reversedReplaceDict"
   ]
  },
  {
   "cell_type": "code",
   "execution_count": 11,
   "id": "03b47b32-85fa-4c8b-93dd-0c562287d775",
   "metadata": {},
   "outputs": [],
   "source": [
    "iris['class'].replace(replaceDict, inplace=True)"
   ]
  },
  {
   "cell_type": "code",
   "execution_count": 12,
   "id": "f59a6ece-640f-4c42-9e5a-95bbf551ebb0",
   "metadata": {},
   "outputs": [
    {
     "data": {
      "text/html": [
       "<div>\n",
       "<style scoped>\n",
       "    .dataframe tbody tr th:only-of-type {\n",
       "        vertical-align: middle;\n",
       "    }\n",
       "\n",
       "    .dataframe tbody tr th {\n",
       "        vertical-align: top;\n",
       "    }\n",
       "\n",
       "    .dataframe thead th {\n",
       "        text-align: right;\n",
       "    }\n",
       "</style>\n",
       "<table border=\"1\" class=\"dataframe\">\n",
       "  <thead>\n",
       "    <tr style=\"text-align: right;\">\n",
       "      <th></th>\n",
       "      <th>sepal_length</th>\n",
       "      <th>sepal_width</th>\n",
       "      <th>petal_length</th>\n",
       "      <th>petal_width</th>\n",
       "      <th>class</th>\n",
       "    </tr>\n",
       "  </thead>\n",
       "  <tbody>\n",
       "    <tr>\n",
       "      <th>0</th>\n",
       "      <td>5.1</td>\n",
       "      <td>3.5</td>\n",
       "      <td>1.4</td>\n",
       "      <td>0.2</td>\n",
       "      <td>0</td>\n",
       "    </tr>\n",
       "    <tr>\n",
       "      <th>1</th>\n",
       "      <td>4.9</td>\n",
       "      <td>3.0</td>\n",
       "      <td>1.4</td>\n",
       "      <td>0.2</td>\n",
       "      <td>0</td>\n",
       "    </tr>\n",
       "    <tr>\n",
       "      <th>2</th>\n",
       "      <td>4.7</td>\n",
       "      <td>3.2</td>\n",
       "      <td>1.3</td>\n",
       "      <td>0.2</td>\n",
       "      <td>0</td>\n",
       "    </tr>\n",
       "    <tr>\n",
       "      <th>3</th>\n",
       "      <td>4.6</td>\n",
       "      <td>3.1</td>\n",
       "      <td>1.5</td>\n",
       "      <td>0.2</td>\n",
       "      <td>0</td>\n",
       "    </tr>\n",
       "    <tr>\n",
       "      <th>4</th>\n",
       "      <td>5.0</td>\n",
       "      <td>3.6</td>\n",
       "      <td>1.4</td>\n",
       "      <td>0.2</td>\n",
       "      <td>0</td>\n",
       "    </tr>\n",
       "    <tr>\n",
       "      <th>...</th>\n",
       "      <td>...</td>\n",
       "      <td>...</td>\n",
       "      <td>...</td>\n",
       "      <td>...</td>\n",
       "      <td>...</td>\n",
       "    </tr>\n",
       "    <tr>\n",
       "      <th>145</th>\n",
       "      <td>6.7</td>\n",
       "      <td>3.0</td>\n",
       "      <td>5.2</td>\n",
       "      <td>2.3</td>\n",
       "      <td>2</td>\n",
       "    </tr>\n",
       "    <tr>\n",
       "      <th>146</th>\n",
       "      <td>6.3</td>\n",
       "      <td>2.5</td>\n",
       "      <td>5.0</td>\n",
       "      <td>1.9</td>\n",
       "      <td>2</td>\n",
       "    </tr>\n",
       "    <tr>\n",
       "      <th>147</th>\n",
       "      <td>6.5</td>\n",
       "      <td>3.0</td>\n",
       "      <td>5.2</td>\n",
       "      <td>2.0</td>\n",
       "      <td>2</td>\n",
       "    </tr>\n",
       "    <tr>\n",
       "      <th>148</th>\n",
       "      <td>6.2</td>\n",
       "      <td>3.4</td>\n",
       "      <td>5.4</td>\n",
       "      <td>2.3</td>\n",
       "      <td>2</td>\n",
       "    </tr>\n",
       "    <tr>\n",
       "      <th>149</th>\n",
       "      <td>5.9</td>\n",
       "      <td>3.0</td>\n",
       "      <td>5.1</td>\n",
       "      <td>1.8</td>\n",
       "      <td>2</td>\n",
       "    </tr>\n",
       "  </tbody>\n",
       "</table>\n",
       "<p>150 rows × 5 columns</p>\n",
       "</div>"
      ],
      "text/plain": [
       "     sepal_length  sepal_width  petal_length  petal_width  class\n",
       "0             5.1          3.5           1.4          0.2      0\n",
       "1             4.9          3.0           1.4          0.2      0\n",
       "2             4.7          3.2           1.3          0.2      0\n",
       "3             4.6          3.1           1.5          0.2      0\n",
       "4             5.0          3.6           1.4          0.2      0\n",
       "..            ...          ...           ...          ...    ...\n",
       "145           6.7          3.0           5.2          2.3      2\n",
       "146           6.3          2.5           5.0          1.9      2\n",
       "147           6.5          3.0           5.2          2.0      2\n",
       "148           6.2          3.4           5.4          2.3      2\n",
       "149           5.9          3.0           5.1          1.8      2\n",
       "\n",
       "[150 rows x 5 columns]"
      ]
     },
     "execution_count": 12,
     "metadata": {},
     "output_type": "execute_result"
    }
   ],
   "source": [
    "iris"
   ]
  },
  {
   "cell_type": "code",
   "execution_count": 13,
   "id": "3f23e58d-bf96-4ee1-827e-1ead32b6b0bb",
   "metadata": {},
   "outputs": [],
   "source": [
    "d_train, d_test = train_test_split(iris, random_state=42, test_size=0.3)"
   ]
  },
  {
   "cell_type": "code",
   "execution_count": 14,
   "id": "cb470157-f9aa-49f9-9f7b-d44ae659301c",
   "metadata": {},
   "outputs": [],
   "source": [
    "X_train = d_train.drop('class', axis=1).values\n",
    "X_test = d_test.drop('class', axis=1).values\n",
    "Y_train = d_train['class'].values\n",
    "Y_test = d_test['class'].values"
   ]
  },
  {
   "cell_type": "markdown",
   "id": "1ab2a4ba-b376-4a48-b208-1fb24f92f7d7",
   "metadata": {},
   "source": [
    "## Modèle"
   ]
  },
  {
   "cell_type": "code",
   "execution_count": 15,
   "id": "43193dd4-f15a-488a-a95b-4f3be7c4195f",
   "metadata": {},
   "outputs": [],
   "source": [
    "def sigmoid(z):\n",
    "    return 1 / (1 + np.exp(-z))"
   ]
  },
  {
   "cell_type": "code",
   "execution_count": 16,
   "id": "c124b2f0-b7c4-4869-83f5-9b715a036828",
   "metadata": {},
   "outputs": [],
   "source": [
    "def model(X, W, b):\n",
    "    return sigmoid(X @ W + b)"
   ]
  },
  {
   "cell_type": "code",
   "execution_count": 17,
   "id": "237bd8ea-1a9b-4559-ac4c-e850070711f0",
   "metadata": {},
   "outputs": [],
   "source": [
    "def predict(X, W, b):\n",
    "    return model(X, W, b) > 0.5"
   ]
  },
  {
   "cell_type": "markdown",
   "id": "e26f6646-66b2-4345-ad61-de5e0576c62b",
   "metadata": {},
   "source": [
    "## Optimization"
   ]
  },
  {
   "cell_type": "code",
   "execution_count": 18,
   "id": "077b48b3-359e-444b-a098-1d1fbcba9a72",
   "metadata": {},
   "outputs": [],
   "source": [
    "def gradients(X, A, y):\n",
    "    dW = 1/len(y) * np.dot(X.T, A - y)\n",
    "    db = 1/len(y) * np.sum(A - y)\n",
    "    return (dW, db)"
   ]
  },
  {
   "cell_type": "code",
   "execution_count": 19,
   "id": "63ad3567-583a-4c63-a744-17e814f6238b",
   "metadata": {},
   "outputs": [],
   "source": [
    "def optimisation(X, W, b, A, y, learning_rate):\n",
    "    dW, db = gradients(X, A, y)\n",
    "    W = W - learning_rate * dW\n",
    "    b = b - learning_rate * db\n",
    "    return (W, b)"
   ]
  },
  {
   "cell_type": "markdown",
   "id": "cc60ff14-980a-4a36-bfa5-e56e161dd03d",
   "metadata": {},
   "source": [
    "## Modèle entrainement"
   ]
  },
  {
   "cell_type": "code",
   "execution_count": 20,
   "id": "6a12ddcf-6cff-4a4b-aa7c-356639bf4e89",
   "metadata": {},
   "outputs": [],
   "source": [
    "def regression_logistique(X, y, learning_rate=0.01, n_iter=10000):\n",
    "  # Initialisation\n",
    "    W = np.random.randn(X.shape[1], 1)\n",
    "    b = np.random.randn(1)\n",
    "    # Entrainement\n",
    "    for i in range(n_iter):\n",
    "        A = model(X, W, b)\n",
    "        W, b = optimisation(X, W, b, A, y, learning_rate=0.1)\n",
    "\n",
    "    return W,b"
   ]
  },
  {
   "cell_type": "markdown",
   "id": "e9b69208-0146-4263-a449-96bacce6b76e",
   "metadata": {},
   "source": [
    "# Classification : One vs One"
   ]
  },
  {
   "cell_type": "markdown",
   "id": "cd25ad83-7bd5-4c63-820a-5ee1a8607fef",
   "metadata": {},
   "source": [
    "## Entrainement"
   ]
  },
  {
   "cell_type": "code",
   "execution_count": 21,
   "id": "121b2e95-24ba-4ff9-affb-e6b8087dc01e",
   "metadata": {},
   "outputs": [],
   "source": [
    "def OneVOne_Train(data, i, j):\n",
    "    \n",
    "    # Filter the subset\n",
    "    class_filter = (data['class'] == i) | (data['class'] == j)\n",
    "    subset = data[class_filter]\n",
    "\n",
    "    X = subset.drop('class', axis=1).values\n",
    "    Y = ((subset['class'] == i) - 0).values\n",
    "    Y = Y.reshape((Y.shape[0], 1))\n",
    "\n",
    "    W,b = regression_logistique(X, Y, n_iter=20000)\n",
    "    return W, b"
   ]
  },
  {
   "cell_type": "code",
   "execution_count": 22,
   "id": "afcfc6b4-6e73-442e-926b-84e51879f6ed",
   "metadata": {},
   "outputs": [],
   "source": [
    "_1v1_W_0, _1v1_b_0 = OneVOne_Train(d_train, 0, 1)"
   ]
  },
  {
   "cell_type": "code",
   "execution_count": 23,
   "id": "cc89f0e9-cae4-4d0e-bb60-0e2b40f9a527",
   "metadata": {},
   "outputs": [],
   "source": [
    "_1v1_W_1, _1v1_b_1 = OneVOne_Train(d_train, 0, 2)"
   ]
  },
  {
   "cell_type": "code",
   "execution_count": 24,
   "id": "f0387aa9-8dfe-4b3a-80bc-42146c35f57a",
   "metadata": {},
   "outputs": [],
   "source": [
    "_1v1_W_2, _1v1_b_2 = OneVOne_Train(d_train, 1, 2)"
   ]
  },
  {
   "cell_type": "markdown",
   "id": "e1c7a0d9-027b-4f24-b974-dbaac9891d58",
   "metadata": {},
   "source": [
    "## Prédiction et évaluation"
   ]
  },
  {
   "cell_type": "markdown",
   "id": "5004288a-380f-45cc-96c7-0db31fa68d2d",
   "metadata": {},
   "source": [
    "### Données d'entrainement"
   ]
  },
  {
   "cell_type": "code",
   "execution_count": 25,
   "id": "ad61536b-14d9-4a29-a145-ea007b419b03",
   "metadata": {},
   "outputs": [],
   "source": [
    "_1v1_train_proba_0 = model(X_train, _1v1_W_0, _1v1_b_0)\n",
    "_1v1_train_proba_1 = model(X_train, _1v1_W_1, _1v1_b_1)\n",
    "_1v1_train_proba_2 = model(X_train, _1v1_W_2, _1v1_b_2)"
   ]
  },
  {
   "cell_type": "code",
   "execution_count": 116,
   "id": "117df7a0-4968-45d0-8e92-c5bb41df2813",
   "metadata": {
    "scrolled": true
   },
   "outputs": [
    {
     "data": {
      "text/plain": [
       "array([[2.68872312e-04],\n",
       "       [3.91533513e-07],\n",
       "       [7.74669252e-08],\n",
       "       [6.98807229e-05],\n",
       "       [1.18285604e-08],\n",
       "       [6.53239054e-05],\n",
       "       [2.52508995e-10],\n",
       "       [1.08411362e-05],\n",
       "       [9.99915797e-01],\n",
       "       [9.43540909e-11],\n",
       "       [1.02928760e-04],\n",
       "       [9.99895193e-01],\n",
       "       [9.99938719e-01],\n",
       "       [9.99265364e-01],\n",
       "       [1.26585560e-04],\n",
       "       [5.76763593e-07],\n",
       "       [9.97059922e-01],\n",
       "       [9.98421251e-01],\n",
       "       [9.98581761e-01],\n",
       "       [2.99158758e-05],\n",
       "       [9.99791012e-01],\n",
       "       [1.05247151e-04],\n",
       "       [1.98371195e-09],\n",
       "       [9.99594630e-01],\n",
       "       [6.50701352e-05],\n",
       "       [6.28790185e-08],\n",
       "       [9.99994831e-01],\n",
       "       [1.97836743e-06],\n",
       "       [8.91249458e-08],\n",
       "       [4.34768256e-05],\n",
       "       [8.62410079e-06],\n",
       "       [1.45241700e-07],\n",
       "       [2.22538528e-05],\n",
       "       [9.99881872e-01],\n",
       "       [1.08746338e-03],\n",
       "       [5.59621418e-08],\n",
       "       [9.99816147e-01],\n",
       "       [9.99918889e-01],\n",
       "       [1.30950592e-04],\n",
       "       [1.60800077e-06],\n",
       "       [9.99381755e-01],\n",
       "       [6.06367680e-08],\n",
       "       [9.99765689e-01],\n",
       "       [9.99469581e-01],\n",
       "       [3.43660944e-06],\n",
       "       [1.14538886e-02],\n",
       "       [2.95166562e-08],\n",
       "       [1.72413227e-07],\n",
       "       [1.03711879e-08],\n",
       "       [3.78119023e-09],\n",
       "       [4.33411948e-05],\n",
       "       [9.98616289e-01],\n",
       "       [9.99828679e-01],\n",
       "       [6.68816658e-08],\n",
       "       [1.51649001e-08],\n",
       "       [9.98994370e-01],\n",
       "       [9.99902787e-01],\n",
       "       [9.99442100e-01],\n",
       "       [4.55724586e-07],\n",
       "       [4.45839372e-08],\n",
       "       [9.99759663e-01],\n",
       "       [5.70004650e-08],\n",
       "       [2.76465736e-09],\n",
       "       [9.99796688e-01],\n",
       "       [5.02275634e-06],\n",
       "       [8.76201951e-06],\n",
       "       [1.27692201e-06],\n",
       "       [3.82220227e-05],\n",
       "       [1.66741545e-07],\n",
       "       [9.99901993e-01],\n",
       "       [1.58637966e-07],\n",
       "       [8.59748174e-05],\n",
       "       [2.62739102e-07],\n",
       "       [2.07881893e-03],\n",
       "       [9.22643252e-05],\n",
       "       [1.24677098e-05],\n",
       "       [9.94108557e-01],\n",
       "       [1.82742572e-05],\n",
       "       [6.97735216e-06],\n",
       "       [9.99938826e-01],\n",
       "       [1.44612069e-04],\n",
       "       [1.11167312e-09],\n",
       "       [4.36781151e-08],\n",
       "       [9.99897501e-01],\n",
       "       [1.35322659e-03],\n",
       "       [2.45839333e-08],\n",
       "       [3.28346029e-08],\n",
       "       [9.99381755e-01],\n",
       "       [2.59206009e-08],\n",
       "       [9.99439925e-01],\n",
       "       [6.68805842e-06],\n",
       "       [2.44733441e-09],\n",
       "       [1.99450510e-08],\n",
       "       [8.32544264e-05],\n",
       "       [6.22364599e-08],\n",
       "       [5.55237322e-06],\n",
       "       [8.17968133e-05],\n",
       "       [2.71129847e-07],\n",
       "       [3.13574346e-07],\n",
       "       [9.99531017e-01],\n",
       "       [2.33970521e-04],\n",
       "       [6.89833188e-07],\n",
       "       [9.99997742e-01],\n",
       "       [9.84181994e-05],\n",
       "       [8.02675035e-09]])"
      ]
     },
     "execution_count": 116,
     "metadata": {},
     "output_type": "execute_result"
    }
   ],
   "source": [
    "_1v1_train_proba_0"
   ]
  },
  {
   "cell_type": "code",
   "execution_count": 26,
   "id": "d911eedf-e476-4268-a1f1-c35b61d2bdee",
   "metadata": {},
   "outputs": [],
   "source": [
    "_1v1_train_0_votes = np.where(_1v1_train_proba_0 > 0.5, 0, 1) # Préduction si la plante est de classe 0 ou 1\n",
    "_1v1_train_1_votes = np.where(_1v1_train_proba_1 > 0.5, 0, 2) # Préduction si la plante est de classe 0 ou 2\n",
    "_1v1_train_2_votes = np.where(_1v1_train_proba_2 > 0.5, 1, 2) # Préduction si la plante est de classe 1 ou 2"
   ]
  },
  {
   "cell_type": "code",
   "execution_count": 27,
   "id": "8f146907-78a7-4d58-b819-efbb35088b3a",
   "metadata": {},
   "outputs": [],
   "source": [
    "_1v1_all_train_votes = np.hstack((_1v1_train_0_votes, _1v1_train_1_votes, _1v1_train_2_votes))"
   ]
  },
  {
   "cell_type": "code",
   "execution_count": 28,
   "id": "cc6244b9-3464-444f-9036-b5aef88620dd",
   "metadata": {
    "scrolled": true
   },
   "outputs": [
    {
     "data": {
      "text/plain": [
       "array([[1, 2, 1],\n",
       "       [1, 2, 1],\n",
       "       [1, 2, 2],\n",
       "       [1, 2, 1],\n",
       "       [1, 2, 2],\n",
       "       [1, 2, 1],\n",
       "       [1, 2, 2],\n",
       "       [1, 2, 1],\n",
       "       [0, 0, 1],\n",
       "       [1, 2, 2],\n",
       "       [1, 2, 1],\n",
       "       [0, 0, 1],\n",
       "       [0, 0, 1],\n",
       "       [0, 0, 1],\n",
       "       [1, 2, 1],\n",
       "       [1, 2, 2],\n",
       "       [0, 0, 1],\n",
       "       [0, 0, 1],\n",
       "       [0, 0, 1],\n",
       "       [1, 2, 1],\n",
       "       [0, 0, 1],\n",
       "       [1, 2, 1],\n",
       "       [1, 2, 2],\n",
       "       [0, 0, 1],\n",
       "       [1, 2, 1],\n",
       "       [1, 2, 2],\n",
       "       [0, 0, 1],\n",
       "       [1, 2, 2],\n",
       "       [1, 2, 2],\n",
       "       [1, 2, 1],\n",
       "       [1, 2, 1],\n",
       "       [1, 2, 2],\n",
       "       [1, 2, 1],\n",
       "       [0, 0, 1],\n",
       "       [1, 2, 1],\n",
       "       [1, 2, 2],\n",
       "       [0, 0, 1],\n",
       "       [0, 0, 1],\n",
       "       [1, 2, 1],\n",
       "       [1, 2, 1],\n",
       "       [0, 0, 1],\n",
       "       [1, 2, 2],\n",
       "       [0, 0, 1],\n",
       "       [0, 0, 1],\n",
       "       [1, 2, 1],\n",
       "       [1, 2, 1],\n",
       "       [1, 2, 2],\n",
       "       [1, 2, 2],\n",
       "       [1, 2, 2],\n",
       "       [1, 2, 2],\n",
       "       [1, 2, 1],\n",
       "       [0, 0, 1],\n",
       "       [0, 0, 1],\n",
       "       [1, 2, 2],\n",
       "       [1, 2, 2],\n",
       "       [0, 0, 1],\n",
       "       [0, 0, 1],\n",
       "       [0, 0, 1],\n",
       "       [1, 2, 2],\n",
       "       [1, 2, 2],\n",
       "       [0, 0, 1],\n",
       "       [1, 2, 2],\n",
       "       [1, 2, 2],\n",
       "       [0, 0, 1],\n",
       "       [1, 2, 1],\n",
       "       [1, 2, 1],\n",
       "       [1, 2, 2],\n",
       "       [1, 2, 1],\n",
       "       [1, 2, 2],\n",
       "       [0, 0, 1],\n",
       "       [1, 2, 2],\n",
       "       [1, 2, 1],\n",
       "       [1, 2, 2],\n",
       "       [1, 2, 1],\n",
       "       [1, 2, 1],\n",
       "       [1, 2, 1],\n",
       "       [0, 0, 1],\n",
       "       [1, 2, 1],\n",
       "       [1, 2, 1],\n",
       "       [0, 0, 1],\n",
       "       [1, 2, 1],\n",
       "       [1, 2, 2],\n",
       "       [1, 2, 2],\n",
       "       [0, 0, 1],\n",
       "       [1, 2, 1],\n",
       "       [1, 2, 2],\n",
       "       [1, 2, 2],\n",
       "       [0, 0, 1],\n",
       "       [1, 2, 2],\n",
       "       [0, 0, 1],\n",
       "       [1, 2, 1],\n",
       "       [1, 2, 2],\n",
       "       [1, 2, 2],\n",
       "       [1, 2, 1],\n",
       "       [1, 2, 2],\n",
       "       [1, 2, 1],\n",
       "       [1, 2, 1],\n",
       "       [1, 2, 2],\n",
       "       [1, 2, 2],\n",
       "       [0, 0, 1],\n",
       "       [1, 2, 1],\n",
       "       [1, 2, 2],\n",
       "       [0, 0, 1],\n",
       "       [1, 2, 1],\n",
       "       [1, 2, 2]])"
      ]
     },
     "execution_count": 28,
     "metadata": {},
     "output_type": "execute_result"
    }
   ],
   "source": [
    "_1v1_all_train_votes"
   ]
  },
  {
   "cell_type": "code",
   "execution_count": 29,
   "id": "36efd81d-a65a-400b-8687-9d21f72618c1",
   "metadata": {},
   "outputs": [],
   "source": [
    "_1v1_train_predictions = np.apply_along_axis(lambda row : np.argmax(np.bincount(row)), axis=1, arr=_1v1_all_train_votes)"
   ]
  },
  {
   "cell_type": "code",
   "execution_count": 30,
   "id": "72fede6f-5bb5-4252-be01-74ec3d494748",
   "metadata": {},
   "outputs": [
    {
     "data": {
      "text/plain": [
       "array([1, 1, 2, 1, 2, 1, 2, 1, 0, 2, 1, 0, 0, 0, 1, 2, 0, 0, 0, 1, 0, 1,\n",
       "       2, 0, 1, 2, 0, 2, 2, 1, 1, 2, 1, 0, 1, 2, 0, 0, 1, 1, 0, 2, 0, 0,\n",
       "       1, 1, 2, 2, 2, 2, 1, 0, 0, 2, 2, 0, 0, 0, 2, 2, 0, 2, 2, 0, 1, 1,\n",
       "       2, 1, 2, 0, 2, 1, 2, 1, 1, 1, 0, 1, 1, 0, 1, 2, 2, 0, 1, 2, 2, 0,\n",
       "       2, 0, 1, 2, 2, 1, 2, 1, 1, 2, 2, 0, 1, 2, 0, 1, 2], dtype=int64)"
      ]
     },
     "execution_count": 30,
     "metadata": {},
     "output_type": "execute_result"
    }
   ],
   "source": [
    "_1v1_train_predictions"
   ]
  },
  {
   "cell_type": "code",
   "execution_count": 31,
   "id": "c3c9bf29-cef3-4cf2-8138-d1e20b4bdf7b",
   "metadata": {},
   "outputs": [],
   "source": [
    "from sklearn.metrics import confusion_matrix"
   ]
  },
  {
   "cell_type": "code",
   "execution_count": 32,
   "id": "461df7fe-6263-4948-83f6-32909305d06d",
   "metadata": {},
   "outputs": [],
   "source": [
    "_1v1_train_cm = confusion_matrix(Y_train, _1v1_train_predictions)"
   ]
  },
  {
   "cell_type": "code",
   "execution_count": 33,
   "id": "2ee3a923-058e-472e-9fc9-dd1173fe8eaa",
   "metadata": {},
   "outputs": [
    {
     "data": {
      "text/plain": [
       "<Axes: >"
      ]
     },
     "execution_count": 33,
     "metadata": {},
     "output_type": "execute_result"
    },
    {
     "data": {
      "image/png": "[encoded data removed]",
      "text/plain": [
       "<Figure size 640x480 with 2 Axes>"
      ]
     },
     "metadata": {},
     "output_type": "display_data"
    }
   ],
   "source": [
    "sns.heatmap(_1v1_train_cm, annot=True, cmap='Blues', annot_kws={'size': 20}, xticklabels=replaceDict, yticklabels=replaceDict)"
   ]
  },
  {
   "cell_type": "code",
   "execution_count": 34,
   "id": "51140ef9-3890-44bb-bfe0-1f09181b5f74",
   "metadata": {},
   "outputs": [],
   "source": [
    "def coef(cm_matrix):\n",
    "    return np.diag(cm_matrix).sum() / cm_matrix.sum()"
   ]
  },
  {
   "cell_type": "code",
   "execution_count": 35,
   "id": "7e248aee-b825-4642-9444-ad0826091fe4",
   "metadata": {},
   "outputs": [],
   "source": [
    "from sklearn.metrics import accuracy_score"
   ]
  },
  {
   "cell_type": "code",
   "execution_count": 36,
   "id": "4acf6cf8-d476-4651-b8ec-65ca6d491353",
   "metadata": {},
   "outputs": [
    {
     "data": {
      "text/plain": [
       "0.9714285714285714"
      ]
     },
     "execution_count": 36,
     "metadata": {},
     "output_type": "execute_result"
    }
   ],
   "source": [
    "accuracy_score(Y_train, _1v1_train_predictions)"
   ]
  },
  {
   "cell_type": "code",
   "execution_count": 37,
   "id": "aa09b781-46e9-4ca0-9bbf-3f562994cdbd",
   "metadata": {},
   "outputs": [
    {
     "data": {
      "text/plain": [
       "0.9714285714285714"
      ]
     },
     "execution_count": 37,
     "metadata": {},
     "output_type": "execute_result"
    }
   ],
   "source": [
    "coef(_1v1_train_cm)"
   ]
  },
  {
   "cell_type": "markdown",
   "id": "341e764b-48e0-4e9a-9784-ef4ba9fbd2c0",
   "metadata": {},
   "source": [
    "### Données du test"
   ]
  },
  {
   "cell_type": "code",
   "execution_count": 38,
   "id": "fd4b833f-a9da-4ce7-a755-653ad5b5537b",
   "metadata": {},
   "outputs": [],
   "source": [
    "_1v1_test_proba_0 = model(X_test, _1v1_W_0, _1v1_b_0)\n",
    "_1v1_test_proba_1 = model(X_test, _1v1_W_1, _1v1_b_1)\n",
    "_1v1_test_proba_2 = model(X_test, _1v1_W_2, _1v1_b_2)\n",
    "\n",
    "_1v1_test_0_votes = np.where(_1v1_test_proba_0 > 0.5, 0, 1) # Préduction si la plante est de classe 0 ou 1\n",
    "_1v1_test_1_votes = np.where(_1v1_test_proba_1 > 0.5, 0, 2) # Préduction si la plante est de classe 0 ou 2\n",
    "_1v1_test_2_votes = np.where(_1v1_test_proba_2 > 0.5, 1, 2) # Préduction si la plante est de classe 1 ou 2"
   ]
  },
  {
   "cell_type": "code",
   "execution_count": 39,
   "id": "85cdaa35-9c2f-4db9-b8b8-aff3d13e35ca",
   "metadata": {},
   "outputs": [],
   "source": [
    "_1v1_all_test_votes = np.hstack((_1v1_test_0_votes, _1v1_test_1_votes, _1v1_test_2_votes))"
   ]
  },
  {
   "cell_type": "code",
   "execution_count": 40,
   "id": "6d26c336-7063-43b4-886f-17e502b15e32",
   "metadata": {
    "scrolled": true
   },
   "outputs": [
    {
     "data": {
      "text/plain": [
       "array([[1, 2, 1],\n",
       "       [0, 0, 1],\n",
       "       [1, 2, 2],\n",
       "       [1, 2, 1],\n",
       "       [1, 2, 1],\n",
       "       [0, 0, 1],\n",
       "       [1, 2, 1],\n",
       "       [1, 2, 2],\n",
       "       [1, 2, 1],\n",
       "       [1, 2, 1],\n",
       "       [1, 2, 2],\n",
       "       [0, 0, 1],\n",
       "       [0, 0, 1],\n",
       "       [0, 0, 1],\n",
       "       [0, 0, 1],\n",
       "       [1, 2, 1],\n",
       "       [1, 2, 2],\n",
       "       [1, 2, 1],\n",
       "       [1, 2, 1],\n",
       "       [1, 2, 2],\n",
       "       [0, 0, 1],\n",
       "       [1, 2, 2],\n",
       "       [0, 0, 1],\n",
       "       [1, 2, 2],\n",
       "       [1, 2, 2],\n",
       "       [1, 2, 2],\n",
       "       [1, 2, 2],\n",
       "       [1, 2, 2],\n",
       "       [0, 0, 1],\n",
       "       [0, 0, 1],\n",
       "       [0, 0, 1],\n",
       "       [0, 0, 1],\n",
       "       [1, 2, 1],\n",
       "       [0, 0, 1],\n",
       "       [0, 0, 1],\n",
       "       [1, 2, 2],\n",
       "       [1, 2, 1],\n",
       "       [0, 0, 1],\n",
       "       [0, 0, 1],\n",
       "       [0, 0, 1],\n",
       "       [1, 2, 2],\n",
       "       [1, 2, 1],\n",
       "       [1, 2, 1],\n",
       "       [0, 0, 1],\n",
       "       [0, 0, 1]])"
      ]
     },
     "execution_count": 40,
     "metadata": {},
     "output_type": "execute_result"
    }
   ],
   "source": [
    "_1v1_all_test_votes"
   ]
  },
  {
   "cell_type": "code",
   "execution_count": 41,
   "id": "37e194fa-ebf3-462e-9c65-be826990a9c1",
   "metadata": {},
   "outputs": [],
   "source": [
    "_1v1_test_predictions = np.apply_along_axis(lambda row : np.argmax(np.bincount(row)), axis=1, arr=_1v1_all_test_votes)"
   ]
  },
  {
   "cell_type": "code",
   "execution_count": 42,
   "id": "820bf3ad-70af-4917-920f-521bcef15811",
   "metadata": {},
   "outputs": [],
   "source": [
    "_1v1_test_cm = confusion_matrix(Y_test, _1v1_test_predictions)"
   ]
  },
  {
   "cell_type": "code",
   "execution_count": 43,
   "id": "b370b787-1b8e-43ec-ab53-a3b7560bb15a",
   "metadata": {},
   "outputs": [
    {
     "data": {
      "text/plain": [
       "<Axes: >"
      ]
     },
     "execution_count": 43,
     "metadata": {},
     "output_type": "execute_result"
    },
    {
     "data": {
      "image/png": "[encoded data removed]",
      "text/plain": [
       "<Figure size 640x480 with 2 Axes>"
      ]
     },
     "metadata": {},
     "output_type": "display_data"
    }
   ],
   "source": [
    "sns.heatmap(_1v1_test_cm, annot=True, cmap='Oranges', annot_kws={'size': 20}, xticklabels=replaceDict, yticklabels=replaceDict)"
   ]
  },
  {
   "cell_type": "code",
   "execution_count": 44,
   "id": "0f8c7f4f-6063-4f6a-af27-dcec597c032f",
   "metadata": {},
   "outputs": [
    {
     "data": {
      "text/plain": [
       "1.0"
      ]
     },
     "execution_count": 44,
     "metadata": {},
     "output_type": "execute_result"
    }
   ],
   "source": [
    "coef(_1v1_test_cm)"
   ]
  },
  {
   "cell_type": "markdown",
   "id": "5d7cb955-0b64-4171-9f6d-95871a20384f",
   "metadata": {},
   "source": [
    "# Classification : One vs All"
   ]
  },
  {
   "cell_type": "markdown",
   "id": "c1893719-4a4a-4fd0-a1e0-d6122714fde4",
   "metadata": {},
   "source": [
    "## Entrainement"
   ]
  },
  {
   "cell_type": "code",
   "execution_count": 50,
   "id": "347f409b-35e0-4a6a-8d32-77071667b0a8",
   "metadata": {},
   "outputs": [],
   "source": [
    "def OneVAll(data, i):\n",
    "    \n",
    "    # Filter the subset\n",
    "    condition = (data['class'] == i)\n",
    "\n",
    "    X = data.drop('class', axis=1).values\n",
    "    Y = (condition - 0).values\n",
    "    Y = Y.reshape((Y.shape[0], 1))\n",
    "\n",
    "    W,b = regression_logistique(X, Y, n_iter=40000)\n",
    "    return W,b"
   ]
  },
  {
   "cell_type": "code",
   "execution_count": 51,
   "id": "11174ad6-a370-438d-a08c-90fd22ea9d2d",
   "metadata": {},
   "outputs": [],
   "source": [
    "_1va_W_0, _1va_b_0 = OneVAll(d_train, 0)"
   ]
  },
  {
   "cell_type": "code",
   "execution_count": 52,
   "id": "e7d2ab10-402b-4c5e-8632-ec9f89c821b8",
   "metadata": {},
   "outputs": [],
   "source": [
    "_1va_W_1, _1va_b_1 = OneVAll(d_train, 1)"
   ]
  },
  {
   "cell_type": "code",
   "execution_count": 53,
   "id": "4ae7e48b-7591-4b7e-91d1-6b7214ece090",
   "metadata": {},
   "outputs": [],
   "source": [
    "_1va_W_2, _1va_b_2 = OneVAll(d_train, 2)"
   ]
  },
  {
   "cell_type": "markdown",
   "id": "69e4698b-c72b-4294-99f8-9891ef2f036c",
   "metadata": {},
   "source": [
    "## Prédiction et évaluation"
   ]
  },
  {
   "cell_type": "markdown",
   "id": "d789e09a-d6d6-4805-8067-dedae7d8913e",
   "metadata": {},
   "source": [
    "### Données d'entrainement"
   ]
  },
  {
   "cell_type": "code",
   "execution_count": 55,
   "id": "0fc62bb6-9f1f-4d25-b656-547ffe7a705c",
   "metadata": {},
   "outputs": [],
   "source": [
    "_1va_train_proba_0 = model(X_train, _1va_W_0, _1va_b_0)\n",
    "_1va_train_proba_1 = model(X_train, _1va_W_1, _1va_b_1)\n",
    "_1va_train_proba_2 = model(X_train, _1va_W_2, _1va_b_2)"
   ]
  },
  {
   "cell_type": "code",
   "execution_count": 57,
   "id": "58015079-74c3-45ec-9374-8d226dfb232a",
   "metadata": {},
   "outputs": [],
   "source": [
    "_1va_train_probabilities = np.hstack((_1va_train_proba_0, _1va_train_proba_1, _1va_train_proba_2))"
   ]
  },
  {
   "cell_type": "code",
   "execution_count": 58,
   "id": "dbd3dda3-ce45-4cf5-9855-0e47f3c766e4",
   "metadata": {
    "scrolled": true
   },
   "outputs": [
    {
     "data": {
      "text/plain": [
       "array([[2.68689691e-04, 8.25546211e-01, 1.56960786e-04],\n",
       "       [3.21364145e-07, 5.91351236e-01, 4.09553891e-01],\n",
       "       [4.67423134e-08, 2.82396666e-01, 9.41989608e-01],\n",
       "       [5.97561280e-05, 3.02632821e-01, 2.99993919e-04],\n",
       "       [3.77128587e-09, 2.38464927e-02, 9.99375874e-01],\n",
       "       [4.95068527e-05, 4.15744208e-01, 1.34265668e-03],\n",
       "       [1.74426755e-10, 4.17315041e-01, 9.99900219e-01],\n",
       "       [6.52066538e-06, 3.07696883e-01, 4.40855566e-02],\n",
       "       [9.99942958e-01, 6.63705587e-02, 9.56930351e-17],\n",
       "       [7.89373206e-11, 6.58176723e-01, 9.99946538e-01],\n",
       "       [1.17851170e-04, 7.10049818e-01, 1.01744190e-04],\n",
       "       [9.99931186e-01, 8.95402091e-02, 1.29933365e-16],\n",
       "       [9.99950436e-01, 4.95376729e-02, 1.87784049e-16],\n",
       "       [9.99404891e-01, 2.64388065e-02, 2.26796430e-15],\n",
       "       [1.10567388e-04, 9.41781937e-01, 3.27388210e-03],\n",
       "       [3.07658262e-07, 4.58673866e-01, 8.71232798e-01],\n",
       "       [9.98086721e-01, 1.47272300e-01, 1.23227413e-14],\n",
       "       [9.98986345e-01, 3.24989617e-01, 1.23523954e-14],\n",
       "       [9.98680268e-01, 8.82175853e-02, 4.29257999e-14],\n",
       "       [2.24500729e-05, 5.87359644e-01, 6.89306394e-03],\n",
       "       [9.99862387e-01, 9.94192387e-02, 3.45884012e-16],\n",
       "       [9.03563960e-05, 3.88106676e-01, 2.67095335e-04],\n",
       "       [1.18701474e-09, 3.96816032e-02, 9.94928244e-01],\n",
       "       [9.99696727e-01, 1.74759613e-01, 3.73164513e-15],\n",
       "       [5.68340819e-05, 4.22357327e-01, 4.56232156e-04],\n",
       "       [2.31011549e-08, 5.63055568e-01, 9.99606046e-01],\n",
       "       [9.99996658e-01, 6.19470391e-03, 2.57817146e-19],\n",
       "       [9.40568698e-07, 2.24399650e-01, 5.88658257e-01],\n",
       "       [3.85391169e-08, 4.71372720e-01, 9.97175300e-01],\n",
       "       [5.30012697e-05, 9.21421104e-01, 6.95813674e-04],\n",
       "       [4.94279692e-06, 3.14009372e-01, 8.39323861e-02],\n",
       "       [4.13889303e-08, 4.13557441e-02, 9.96745699e-01],\n",
       "       [1.60756132e-05, 8.21026618e-01, 3.54896388e-02],\n",
       "       [9.99906464e-01, 1.49012761e-02, 1.18645567e-16],\n",
       "       [8.91133381e-04, 8.26928937e-01, 1.31349102e-04],\n",
       "       [2.91847196e-08, 4.99657647e-01, 9.93811516e-01],\n",
       "       [9.99874217e-01, 1.24499236e-01, 4.94024109e-16],\n",
       "       [9.99942510e-01, 1.40292049e-01, 2.65067203e-16],\n",
       "       [1.17166196e-04, 8.07046244e-01, 7.78989795e-04],\n",
       "       [1.07762031e-06, 2.85490284e-01, 1.49408807e-01],\n",
       "       [9.99633422e-01, 2.82510215e-01, 1.83189237e-15],\n",
       "       [1.34661465e-08, 1.71451235e-01, 9.99956871e-01],\n",
       "       [9.99841944e-01, 1.00746238e-01, 4.87520470e-16],\n",
       "       [9.99402320e-01, 3.47375133e-02, 2.29980663e-14],\n",
       "       [1.57227941e-06, 1.29648437e-01, 3.55131154e-01],\n",
       "       [7.82124892e-03, 5.85136635e-01, 9.93191881e-06],\n",
       "       [1.07682624e-08, 9.40338009e-02, 9.98539749e-01],\n",
       "       [1.16200083e-07, 6.29194918e-01, 9.07186234e-01],\n",
       "       [1.04418060e-08, 8.58886972e-01, 9.78779761e-01],\n",
       "       [1.84805163e-09, 2.13948577e-01, 9.99511400e-01],\n",
       "       [3.08645907e-05, 6.99458924e-01, 9.94599236e-03],\n",
       "       [9.98936416e-01, 3.76389371e-01, 5.19676695e-14],\n",
       "       [9.99873098e-01, 2.87475007e-01, 2.16066353e-15],\n",
       "       [5.21762025e-08, 9.12831559e-01, 9.80595472e-01],\n",
       "       [1.22567382e-08, 2.92018077e-01, 9.29017989e-01],\n",
       "       [9.99268609e-01, 2.47473728e-01, 1.34880913e-14],\n",
       "       [9.99924864e-01, 5.37524517e-02, 2.51619194e-16],\n",
       "       [9.99558897e-01, 2.79884648e-01, 1.43774903e-14],\n",
       "       [3.66230104e-07, 7.65985463e-01, 5.76836252e-01],\n",
       "       [1.19035574e-08, 3.98999080e-02, 9.99509584e-01],\n",
       "       [9.99791917e-01, 7.90628984e-02, 2.67891127e-15],\n",
       "       [2.56871132e-08, 2.09969676e-01, 9.93062663e-01],\n",
       "       [7.09502586e-10, 6.52337989e-02, 9.99992337e-01],\n",
       "       [9.99848335e-01, 1.58713567e-01, 1.40181445e-15],\n",
       "       [4.08694456e-06, 4.70204577e-01, 2.10693696e-02],\n",
       "       [6.78545198e-06, 4.59070988e-01, 1.43220089e-02],\n",
       "       [6.46265668e-07, 3.56386964e-01, 7.25154157e-01],\n",
       "       [3.78244337e-05, 2.19287896e-01, 1.39820039e-04],\n",
       "       [4.95173622e-08, 6.94599709e-02, 9.96666580e-01],\n",
       "       [9.99934995e-01, 3.04705007e-02, 4.86930558e-17],\n",
       "       [7.11832415e-08, 1.44306362e-01, 9.65633067e-01],\n",
       "       [5.21567407e-05, 2.39101473e-01, 2.43886307e-03],\n",
       "       [1.17884237e-07, 2.04383403e-01, 9.57679111e-01],\n",
       "       [2.05966812e-03, 6.55804756e-01, 6.04827679e-06],\n",
       "       [5.16966455e-05, 4.71332824e-01, 1.05795640e-02],\n",
       "       [9.86049698e-06, 3.63673591e-01, 5.91931024e-03],\n",
       "       [9.95061095e-01, 7.66925011e-01, 2.52233762e-12],\n",
       "       [1.87372762e-05, 4.82622717e-01, 7.78464294e-04],\n",
       "       [6.12873893e-06, 7.56401214e-01, 2.47696586e-02],\n",
       "       [9.99960787e-01, 3.72889773e-02, 2.48369111e-17],\n",
       "       [1.03988258e-04, 3.17417220e-01, 5.24002134e-04],\n",
       "       [1.00236787e-09, 6.03497342e-01, 9.97724658e-01],\n",
       "       [1.96245066e-08, 1.06538176e-01, 9.90353774e-01],\n",
       "       [9.99910246e-01, 2.48395306e-02, 3.41153000e-16],\n",
       "       [1.07486179e-03, 7.75468679e-01, 9.67390426e-05],\n",
       "       [6.51856868e-09, 4.63641321e-02, 9.99796284e-01],\n",
       "       [3.35818403e-08, 5.09974385e-01, 6.60307114e-01],\n",
       "       [9.99633422e-01, 2.82510215e-01, 1.83189237e-15],\n",
       "       [7.78694921e-09, 9.78182337e-02, 9.99723816e-01],\n",
       "       [9.99615747e-01, 2.85392314e-01, 4.88111096e-15],\n",
       "       [5.95126517e-06, 2.81221570e-01, 3.52549204e-03],\n",
       "       [1.91241200e-09, 5.78999166e-01, 9.97726794e-01],\n",
       "       [1.21730117e-08, 4.65444996e-01, 9.93723608e-01],\n",
       "       [6.22103964e-05, 4.74570774e-01, 1.36054367e-03],\n",
       "       [3.87454246e-08, 3.52506395e-01, 9.56613383e-01],\n",
       "       [5.29712341e-06, 8.59214822e-01, 2.91760155e-02],\n",
       "       [7.49757470e-05, 4.15184997e-01, 2.29699247e-04],\n",
       "       [9.31699169e-08, 2.99344432e-01, 9.96311875e-01],\n",
       "       [1.55121625e-07, 2.84352488e-01, 9.31451917e-01],\n",
       "       [9.99724688e-01, 1.14434105e-01, 4.40593673e-16],\n",
       "       [1.88495353e-04, 4.34976850e-01, 1.82737421e-04],\n",
       "       [2.78999527e-07, 6.31844899e-01, 9.89068693e-01],\n",
       "       [9.99998603e-01, 9.51693359e-03, 9.45442823e-20],\n",
       "       [8.53547962e-05, 6.64967852e-01, 7.12404194e-04],\n",
       "       [4.23431915e-09, 2.75683729e-01, 9.98464866e-01]])"
      ]
     },
     "execution_count": 58,
     "metadata": {},
     "output_type": "execute_result"
    }
   ],
   "source": [
    "_1va_train_probabilities"
   ]
  },
  {
   "cell_type": "code",
   "execution_count": 59,
   "id": "4cc5791f-e0d3-4935-b092-a5b1f08f0ae8",
   "metadata": {},
   "outputs": [],
   "source": [
    "_1va_train_predictions = np.argmax(_1va_train_probabilities, axis=1)"
   ]
  },
  {
   "cell_type": "code",
   "execution_count": 61,
   "id": "33da193d-c3bb-4c55-a570-efe8e00488c1",
   "metadata": {},
   "outputs": [
    {
     "data": {
      "text/plain": [
       "array([1, 1, 2, 1, 2, 1, 2, 1, 0, 2, 1, 0, 0, 0, 1, 2, 0, 0, 0, 1, 0, 1,\n",
       "       2, 0, 1, 2, 0, 2, 2, 1, 1, 2, 1, 0, 1, 2, 0, 0, 1, 1, 0, 2, 0, 0,\n",
       "       2, 1, 2, 2, 2, 2, 1, 0, 0, 2, 2, 0, 0, 0, 1, 2, 0, 2, 2, 0, 1, 1,\n",
       "       2, 1, 2, 0, 2, 1, 2, 1, 1, 1, 0, 1, 1, 0, 1, 2, 2, 0, 1, 2, 2, 0,\n",
       "       2, 0, 1, 2, 2, 1, 2, 1, 1, 2, 2, 0, 1, 2, 0, 1, 2], dtype=int64)"
      ]
     },
     "execution_count": 61,
     "metadata": {},
     "output_type": "execute_result"
    }
   ],
   "source": [
    "_1va_train_predictions"
   ]
  },
  {
   "cell_type": "code",
   "execution_count": 62,
   "id": "ad3103f2-7882-4105-8db5-c98b50cae738",
   "metadata": {},
   "outputs": [],
   "source": [
    "_1va_train_cm = confusion_matrix(Y_train, _1va_train_predictions)"
   ]
  },
  {
   "cell_type": "code",
   "execution_count": 63,
   "id": "956442af-a3ad-4ab9-8b43-c0613da9933a",
   "metadata": {},
   "outputs": [
    {
     "data": {
      "text/plain": [
       "<Axes: >"
      ]
     },
     "execution_count": 63,
     "metadata": {},
     "output_type": "execute_result"
    },
    {
     "data": {
      "image/png": "[encoded data removed]",
      "text/plain": [
       "<Figure size 640x480 with 2 Axes>"
      ]
     },
     "metadata": {},
     "output_type": "display_data"
    }
   ],
   "source": [
    "sns.heatmap(_1va_train_cm, annot=True, cmap='Purples', annot_kws={'size': 20}, xticklabels=replaceDict, yticklabels=replaceDict)"
   ]
  },
  {
   "cell_type": "code",
   "execution_count": 64,
   "id": "8e584688-5d77-4267-af68-f0cd81498b89",
   "metadata": {},
   "outputs": [
    {
     "data": {
      "text/plain": [
       "0.9714285714285714"
      ]
     },
     "execution_count": 64,
     "metadata": {},
     "output_type": "execute_result"
    }
   ],
   "source": [
    "coef(_1va_train_cm)"
   ]
  },
  {
   "cell_type": "code",
   "execution_count": 94,
   "id": "46662a39-68cf-4071-b7e0-5af4f2ad1c52",
   "metadata": {},
   "outputs": [],
   "source": [
    "_1va_train_table = d_train.copy()\n",
    "_1va_train_table[['proba_setosa', 'proba_virsicolor', 'proba_verginica']] = np.round(_1va_train_probabilities * 100, decimals=2)\n",
    "_1va_train_table[\"prediction\"] = _1va_train_predictions\n",
    "_1va_train_table.replace({'prediction': reversedReplaceDict, 'class' : reversedReplaceDict}, inplace=True)"
   ]
  },
  {
   "cell_type": "code",
   "execution_count": 95,
   "id": "e763b9a1-cc07-4310-9b8a-d25de9301cab",
   "metadata": {},
   "outputs": [
    {
     "data": {
      "text/html": [
       "<div>\n",
       "<style scoped>\n",
       "    .dataframe tbody tr th:only-of-type {\n",
       "        vertical-align: middle;\n",
       "    }\n",
       "\n",
       "    .dataframe tbody tr th {\n",
       "        vertical-align: top;\n",
       "    }\n",
       "\n",
       "    .dataframe thead th {\n",
       "        text-align: right;\n",
       "    }\n",
       "</style>\n",
       "<table border=\"1\" class=\"dataframe\">\n",
       "  <thead>\n",
       "    <tr style=\"text-align: right;\">\n",
       "      <th></th>\n",
       "      <th>sepal_length</th>\n",
       "      <th>sepal_width</th>\n",
       "      <th>petal_length</th>\n",
       "      <th>petal_width</th>\n",
       "      <th>class</th>\n",
       "      <th>proba_setosa</th>\n",
       "      <th>proba_virsicolor</th>\n",
       "      <th>proba_verginica</th>\n",
       "      <th>prediction</th>\n",
       "    </tr>\n",
       "  </thead>\n",
       "  <tbody>\n",
       "    <tr>\n",
       "      <th>81</th>\n",
       "      <td>5.5</td>\n",
       "      <td>2.4</td>\n",
       "      <td>3.7</td>\n",
       "      <td>1.0</td>\n",
       "      <td>Iris-versicolor</td>\n",
       "      <td>0.03</td>\n",
       "      <td>82.55</td>\n",
       "      <td>0.02</td>\n",
       "      <td>Iris-versicolor</td>\n",
       "    </tr>\n",
       "    <tr>\n",
       "      <th>133</th>\n",
       "      <td>6.3</td>\n",
       "      <td>2.8</td>\n",
       "      <td>5.1</td>\n",
       "      <td>1.5</td>\n",
       "      <td>Iris-virginica</td>\n",
       "      <td>0.00</td>\n",
       "      <td>59.14</td>\n",
       "      <td>40.96</td>\n",
       "      <td>Iris-versicolor</td>\n",
       "    </tr>\n",
       "    <tr>\n",
       "      <th>137</th>\n",
       "      <td>6.4</td>\n",
       "      <td>3.1</td>\n",
       "      <td>5.5</td>\n",
       "      <td>1.8</td>\n",
       "      <td>Iris-virginica</td>\n",
       "      <td>0.00</td>\n",
       "      <td>28.24</td>\n",
       "      <td>94.20</td>\n",
       "      <td>Iris-virginica</td>\n",
       "    </tr>\n",
       "    <tr>\n",
       "      <th>75</th>\n",
       "      <td>6.6</td>\n",
       "      <td>3.0</td>\n",
       "      <td>4.4</td>\n",
       "      <td>1.4</td>\n",
       "      <td>Iris-versicolor</td>\n",
       "      <td>0.01</td>\n",
       "      <td>30.26</td>\n",
       "      <td>0.03</td>\n",
       "      <td>Iris-versicolor</td>\n",
       "    </tr>\n",
       "    <tr>\n",
       "      <th>109</th>\n",
       "      <td>7.2</td>\n",
       "      <td>3.6</td>\n",
       "      <td>6.1</td>\n",
       "      <td>2.5</td>\n",
       "      <td>Iris-virginica</td>\n",
       "      <td>0.00</td>\n",
       "      <td>2.38</td>\n",
       "      <td>99.94</td>\n",
       "      <td>Iris-virginica</td>\n",
       "    </tr>\n",
       "    <tr>\n",
       "      <th>...</th>\n",
       "      <td>...</td>\n",
       "      <td>...</td>\n",
       "      <td>...</td>\n",
       "      <td>...</td>\n",
       "      <td>...</td>\n",
       "      <td>...</td>\n",
       "      <td>...</td>\n",
       "      <td>...</td>\n",
       "      <td>...</td>\n",
       "    </tr>\n",
       "    <tr>\n",
       "      <th>71</th>\n",
       "      <td>6.1</td>\n",
       "      <td>2.8</td>\n",
       "      <td>4.0</td>\n",
       "      <td>1.3</td>\n",
       "      <td>Iris-versicolor</td>\n",
       "      <td>0.02</td>\n",
       "      <td>43.50</td>\n",
       "      <td>0.02</td>\n",
       "      <td>Iris-versicolor</td>\n",
       "    </tr>\n",
       "    <tr>\n",
       "      <th>106</th>\n",
       "      <td>4.9</td>\n",
       "      <td>2.5</td>\n",
       "      <td>4.5</td>\n",
       "      <td>1.7</td>\n",
       "      <td>Iris-virginica</td>\n",
       "      <td>0.00</td>\n",
       "      <td>63.18</td>\n",
       "      <td>98.91</td>\n",
       "      <td>Iris-virginica</td>\n",
       "    </tr>\n",
       "    <tr>\n",
       "      <th>14</th>\n",
       "      <td>5.8</td>\n",
       "      <td>4.0</td>\n",
       "      <td>1.2</td>\n",
       "      <td>0.2</td>\n",
       "      <td>Iris-setosa</td>\n",
       "      <td>100.00</td>\n",
       "      <td>0.95</td>\n",
       "      <td>0.00</td>\n",
       "      <td>Iris-setosa</td>\n",
       "    </tr>\n",
       "    <tr>\n",
       "      <th>92</th>\n",
       "      <td>5.8</td>\n",
       "      <td>2.6</td>\n",
       "      <td>4.0</td>\n",
       "      <td>1.2</td>\n",
       "      <td>Iris-versicolor</td>\n",
       "      <td>0.01</td>\n",
       "      <td>66.50</td>\n",
       "      <td>0.07</td>\n",
       "      <td>Iris-versicolor</td>\n",
       "    </tr>\n",
       "    <tr>\n",
       "      <th>102</th>\n",
       "      <td>7.1</td>\n",
       "      <td>3.0</td>\n",
       "      <td>5.9</td>\n",
       "      <td>2.1</td>\n",
       "      <td>Iris-virginica</td>\n",
       "      <td>0.00</td>\n",
       "      <td>27.57</td>\n",
       "      <td>99.85</td>\n",
       "      <td>Iris-virginica</td>\n",
       "    </tr>\n",
       "  </tbody>\n",
       "</table>\n",
       "<p>105 rows × 9 columns</p>\n",
       "</div>"
      ],
      "text/plain": [
       "     sepal_length  sepal_width  petal_length  petal_width            class  \\\n",
       "81            5.5          2.4           3.7          1.0  Iris-versicolor   \n",
       "133           6.3          2.8           5.1          1.5   Iris-virginica   \n",
       "137           6.4          3.1           5.5          1.8   Iris-virginica   \n",
       "75            6.6          3.0           4.4          1.4  Iris-versicolor   \n",
       "109           7.2          3.6           6.1          2.5   Iris-virginica   \n",
       "..            ...          ...           ...          ...              ...   \n",
       "71            6.1          2.8           4.0          1.3  Iris-versicolor   \n",
       "106           4.9          2.5           4.5          1.7   Iris-virginica   \n",
       "14            5.8          4.0           1.2          0.2      Iris-setosa   \n",
       "92            5.8          2.6           4.0          1.2  Iris-versicolor   \n",
       "102           7.1          3.0           5.9          2.1   Iris-virginica   \n",
       "\n",
       "     proba_setosa  proba_virsicolor  proba_verginica       prediction  \n",
       "81           0.03             82.55             0.02  Iris-versicolor  \n",
       "133          0.00             59.14            40.96  Iris-versicolor  \n",
       "137          0.00             28.24            94.20   Iris-virginica  \n",
       "75           0.01             30.26             0.03  Iris-versicolor  \n",
       "109          0.00              2.38            99.94   Iris-virginica  \n",
       "..            ...               ...              ...              ...  \n",
       "71           0.02             43.50             0.02  Iris-versicolor  \n",
       "106          0.00             63.18            98.91   Iris-virginica  \n",
       "14         100.00              0.95             0.00      Iris-setosa  \n",
       "92           0.01             66.50             0.07  Iris-versicolor  \n",
       "102          0.00             27.57            99.85   Iris-virginica  \n",
       "\n",
       "[105 rows x 9 columns]"
      ]
     },
     "execution_count": 95,
     "metadata": {},
     "output_type": "execute_result"
    }
   ],
   "source": [
    "_1va_train_table"
   ]
  },
  {
   "cell_type": "code",
   "execution_count": 96,
   "id": "8302783c-6450-4d6f-9f81-715f784b4199",
   "metadata": {},
   "outputs": [],
   "source": [
    "false_train_predictions = (_1va_train_table[\"class\"] != _1va_train_table[\"prediction\"])"
   ]
  },
  {
   "cell_type": "code",
   "execution_count": 98,
   "id": "eedc099a-16af-41dd-810b-d334e99451bb",
   "metadata": {},
   "outputs": [
    {
     "data": {
      "text/html": [
       "<div>\n",
       "<style scoped>\n",
       "    .dataframe tbody tr th:only-of-type {\n",
       "        vertical-align: middle;\n",
       "    }\n",
       "\n",
       "    .dataframe tbody tr th {\n",
       "        vertical-align: top;\n",
       "    }\n",
       "\n",
       "    .dataframe thead th {\n",
       "        text-align: right;\n",
       "    }\n",
       "</style>\n",
       "<table border=\"1\" class=\"dataframe\">\n",
       "  <thead>\n",
       "    <tr style=\"text-align: right;\">\n",
       "      <th></th>\n",
       "      <th>sepal_length</th>\n",
       "      <th>sepal_width</th>\n",
       "      <th>petal_length</th>\n",
       "      <th>petal_width</th>\n",
       "      <th>class</th>\n",
       "      <th>proba_setosa</th>\n",
       "      <th>proba_virsicolor</th>\n",
       "      <th>proba_verginica</th>\n",
       "      <th>prediction</th>\n",
       "    </tr>\n",
       "  </thead>\n",
       "  <tbody>\n",
       "    <tr>\n",
       "      <th>133</th>\n",
       "      <td>6.3</td>\n",
       "      <td>2.8</td>\n",
       "      <td>5.1</td>\n",
       "      <td>1.5</td>\n",
       "      <td>Iris-virginica</td>\n",
       "      <td>0.0</td>\n",
       "      <td>59.14</td>\n",
       "      <td>40.96</td>\n",
       "      <td>Iris-versicolor</td>\n",
       "    </tr>\n",
       "    <tr>\n",
       "      <th>70</th>\n",
       "      <td>5.9</td>\n",
       "      <td>3.2</td>\n",
       "      <td>4.8</td>\n",
       "      <td>1.8</td>\n",
       "      <td>Iris-versicolor</td>\n",
       "      <td>0.0</td>\n",
       "      <td>12.96</td>\n",
       "      <td>35.51</td>\n",
       "      <td>Iris-virginica</td>\n",
       "    </tr>\n",
       "    <tr>\n",
       "      <th>83</th>\n",
       "      <td>6.0</td>\n",
       "      <td>2.7</td>\n",
       "      <td>5.1</td>\n",
       "      <td>1.6</td>\n",
       "      <td>Iris-versicolor</td>\n",
       "      <td>0.0</td>\n",
       "      <td>62.92</td>\n",
       "      <td>90.72</td>\n",
       "      <td>Iris-virginica</td>\n",
       "    </tr>\n",
       "  </tbody>\n",
       "</table>\n",
       "</div>"
      ],
      "text/plain": [
       "     sepal_length  sepal_width  petal_length  petal_width            class  \\\n",
       "133           6.3          2.8           5.1          1.5   Iris-virginica   \n",
       "70            5.9          3.2           4.8          1.8  Iris-versicolor   \n",
       "83            6.0          2.7           5.1          1.6  Iris-versicolor   \n",
       "\n",
       "     proba_setosa  proba_virsicolor  proba_verginica       prediction  \n",
       "133           0.0             59.14            40.96  Iris-versicolor  \n",
       "70            0.0             12.96            35.51   Iris-virginica  \n",
       "83            0.0             62.92            90.72   Iris-virginica  "
      ]
     },
     "execution_count": 98,
     "metadata": {},
     "output_type": "execute_result"
    }
   ],
   "source": [
    "_1va_train_table[false_train_predictions]"
   ]
  },
  {
   "cell_type": "markdown",
   "id": "7bf96302-574e-4c54-9da8-56568ba073fa",
   "metadata": {},
   "source": [
    "### Données du test"
   ]
  },
  {
   "cell_type": "code",
   "execution_count": 99,
   "id": "d589b1a9-2fe3-47de-9a6e-beb966dfcb1a",
   "metadata": {},
   "outputs": [],
   "source": [
    "_1va_test_proba_0 = model(X_test, _1va_W_0, _1va_b_0)\n",
    "_1va_test_proba_1 = model(X_test, _1va_W_1, _1va_b_1)\n",
    "_1va_test_proba_2 = model(X_test, _1va_W_2, _1va_b_2)"
   ]
  },
  {
   "cell_type": "code",
   "execution_count": 100,
   "id": "cf485666-5ce3-4568-9c93-5c2a734227f9",
   "metadata": {},
   "outputs": [],
   "source": [
    "_1va_test_probabilities = np.hstack((_1va_test_proba_0, _1va_test_proba_1, _1va_test_proba_2))"
   ]
  },
  {
   "cell_type": "code",
   "execution_count": 101,
   "id": "02a889a5-eabd-4bc5-af39-b64648833efa",
   "metadata": {
    "scrolled": true
   },
   "outputs": [
    {
     "data": {
      "text/plain": [
       "array([[5.11766500e-06, 6.61178987e-01, 5.92237318e-03],\n",
       "       [9.99935062e-01, 2.47973229e-02, 3.08392423e-17],\n",
       "       [5.93324621e-12, 7.03198710e-01, 9.99999775e-01],\n",
       "       [8.18994822e-06, 3.70389542e-01, 2.18738598e-02],\n",
       "       [4.46699461e-06, 5.54204190e-01, 6.98983468e-03],\n",
       "       [9.99842423e-01, 6.31817752e-02, 8.54024367e-16],\n",
       "       [1.19983827e-03, 2.82815464e-01, 4.17549625e-05],\n",
       "       [2.16577355e-07, 7.37096877e-02, 9.66485002e-01],\n",
       "       [1.10168181e-06, 8.59973717e-01, 5.14228946e-01],\n",
       "       [2.05910328e-04, 5.61039124e-01, 1.97196936e-04],\n",
       "       [3.94101313e-07, 1.05406086e-01, 7.65875930e-01],\n",
       "       [9.99664929e-01, 3.36518858e-01, 2.61648115e-15],\n",
       "       [9.99981176e-01, 5.71302068e-02, 1.28375877e-17],\n",
       "       [9.99633422e-01, 2.82510215e-01, 1.83189237e-15],\n",
       "       [9.99950823e-01, 2.22008283e-02, 6.77927160e-17],\n",
       "       [1.14548899e-05, 1.24056981e-01, 5.55229867e-03],\n",
       "       [2.43789689e-09, 2.30996342e-01, 9.99859181e-01],\n",
       "       [1.07093583e-04, 7.64539884e-01, 5.45526148e-04],\n",
       "       [6.76823734e-06, 5.74816749e-01, 1.70384482e-02],\n",
       "       [3.35167387e-09, 3.29370817e-01, 9.99902701e-01],\n",
       "       [9.99199865e-01, 2.03375526e-01, 9.44349686e-15],\n",
       "       [6.20437029e-07, 2.39739428e-01, 6.57246054e-01],\n",
       "       [9.99522638e-01, 7.33248012e-02, 6.36600782e-15],\n",
       "       [4.41492551e-09, 3.80661075e-01, 9.99744199e-01],\n",
       "       [1.43435876e-08, 4.43716267e-02, 6.79489020e-01],\n",
       "       [6.80441373e-08, 1.12900124e-01, 9.95194075e-01],\n",
       "       [1.89554099e-09, 7.96000716e-01, 9.99479331e-01],\n",
       "       [3.09228835e-09, 1.14158925e-01, 9.99709211e-01],\n",
       "       [9.99418762e-01, 2.44636805e-01, 1.80902466e-14],\n",
       "       [9.99034880e-01, 2.61002387e-01, 1.28225144e-14],\n",
       "       [9.99991047e-01, 3.51349893e-02, 2.18624939e-17],\n",
       "       [9.99996014e-01, 2.16394980e-03, 4.62653580e-19],\n",
       "       [9.50991670e-05, 2.33469414e-01, 1.11231900e-04],\n",
       "       [9.99637011e-01, 1.13180372e-01, 1.82921615e-15],\n",
       "       [9.99770209e-01, 1.64704902e-01, 3.92534322e-15],\n",
       "       [6.98642170e-08, 5.96152305e-01, 9.91939906e-01],\n",
       "       [3.79190112e-05, 1.66953385e-01, 8.07647810e-04],\n",
       "       [9.99913529e-01, 7.19091634e-02, 1.28222842e-16],\n",
       "       [9.99952717e-01, 4.88745036e-02, 7.04757934e-17],\n",
       "       [9.99990724e-01, 1.25027579e-02, 9.92397404e-19],\n",
       "       [3.85391169e-08, 4.71372720e-01, 9.97175300e-01],\n",
       "       [3.17583393e-05, 7.93417491e-02, 2.28500356e-03],\n",
       "       [1.36770315e-05, 2.47757077e-01, 1.96665627e-03],\n",
       "       [9.99989823e-01, 1.00048429e-02, 9.32527772e-18],\n",
       "       [9.99965859e-01, 3.67636467e-02, 1.76211893e-17]])"
      ]
     },
     "execution_count": 101,
     "metadata": {},
     "output_type": "execute_result"
    }
   ],
   "source": [
    "_1va_test_probabilities"
   ]
  },
  {
   "cell_type": "code",
   "execution_count": 102,
   "id": "9b2cff82-5c9c-4d0c-b7b4-6dc5db6b16a0",
   "metadata": {},
   "outputs": [],
   "source": [
    "_1va_test_predictions = np.argmax(_1va_test_probabilities, axis=1)"
   ]
  },
  {
   "cell_type": "code",
   "execution_count": 103,
   "id": "7ed5e223-7469-4186-9a4e-8a16948608b0",
   "metadata": {},
   "outputs": [
    {
     "data": {
      "text/plain": [
       "array([1, 0, 2, 1, 1, 0, 1, 2, 1, 1, 2, 0, 0, 0, 0, 1, 2, 1, 1, 2, 0, 2,\n",
       "       0, 2, 2, 2, 2, 2, 0, 0, 0, 0, 1, 0, 0, 2, 1, 0, 0, 0, 2, 1, 1, 0,\n",
       "       0], dtype=int64)"
      ]
     },
     "execution_count": 103,
     "metadata": {},
     "output_type": "execute_result"
    }
   ],
   "source": [
    "_1va_test_predictions"
   ]
  },
  {
   "cell_type": "code",
   "execution_count": 104,
   "id": "b7c2e533-2e9d-4619-a4f9-c8a83bcb3c1c",
   "metadata": {},
   "outputs": [],
   "source": [
    "_1va_test_cm = confusion_matrix(Y_test, _1va_test_predictions)"
   ]
  },
  {
   "cell_type": "code",
   "execution_count": 105,
   "id": "b4ec041c-04ab-40e8-a903-de694cbf80f1",
   "metadata": {},
   "outputs": [
    {
     "data": {
      "text/plain": [
       "<Axes: >"
      ]
     },
     "execution_count": 105,
     "metadata": {},
     "output_type": "execute_result"
    },
    {
     "data": {
      "image/png": "[encoded data removed]",
      "text/plain": [
       "<Figure size 640x480 with 2 Axes>"
      ]
     },
     "metadata": {},
     "output_type": "display_data"
    }
   ],
   "source": [
    "sns.heatmap(_1va_test_cm, annot=True, cmap='Greens', annot_kws={'size': 20}, xticklabels=replaceDict, yticklabels=replaceDict)"
   ]
  },
  {
   "cell_type": "code",
   "execution_count": 106,
   "id": "5e0c1c45-be7a-4fc3-8a66-a655a2d21a25",
   "metadata": {},
   "outputs": [
    {
     "data": {
      "text/plain": [
       "1.0"
      ]
     },
     "execution_count": 106,
     "metadata": {},
     "output_type": "execute_result"
    }
   ],
   "source": [
    "coef(_1va_test_cm)"
   ]
  },
  {
   "cell_type": "code",
   "execution_count": 108,
   "id": "5ff5d80c-fed6-4054-80f7-9eedcf6ea18c",
   "metadata": {},
   "outputs": [],
   "source": [
    "_1va_test_table = d_test.copy()\n",
    "_1va_test_table[['proba_setosa', 'proba_virsicolor', 'proba_verginica']] = np.round(_1va_test_probabilities * 100, decimals=2)\n",
    "_1va_test_table[\"prediction\"] = _1va_test_predictions\n",
    "_1va_test_table.replace({'prediction': reversedReplaceDict, 'class' : reversedReplaceDict}, inplace=True)"
   ]
  },
  {
   "cell_type": "code",
   "execution_count": 109,
   "id": "6c5b9c7b-3ca8-495b-8648-6578ee236a30",
   "metadata": {},
   "outputs": [],
   "source": [
    "false_test_predictions = (_1va_test_table[\"class\"] != _1va_test_table[\"prediction\"])"
   ]
  },
  {
   "cell_type": "code",
   "execution_count": 113,
   "id": "f64c3ab2-9e4c-4d3c-8b2d-b4f4f8d7d740",
   "metadata": {},
   "outputs": [
    {
     "data": {
      "text/plain": [
       "0"
      ]
     },
     "execution_count": 113,
     "metadata": {},
     "output_type": "execute_result"
    }
   ],
   "source": [
    "_1va_test_table[false_test_predictions].size"
   ]
  }
 ],
 "metadata": {
  "kernelspec": {
   "display_name": "Python 3 (ipykernel)",
   "language": "python",
   "name": "python3"
  },
  "language_info": {
   "codemirror_mode": {
    "name": "ipython",
    "version": 3
   },
   "file_extension": ".py",
   "mimetype": "text/x-python",
   "name": "python",
   "nbconvert_exporter": "python",
   "pygments_lexer": "ipython3",
   "version": "3.11.5"
  }
 },
 "nbformat": 4,
 "nbformat_minor": 5
}
